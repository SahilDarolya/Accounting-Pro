{
 "cells": [
  {
   "cell_type": "markdown",
   "metadata": {},
   "source": [
    "# Accounting Software Startup Notebook\n",
    "\n",
    "This notebook will help you start and manage the accounting software."
   ]
  },
  {
   "cell_type": "markdown",
   "metadata": {},
   "source": [
    "## 1. Setup Environment\n",
    "\n",
    "First, let's make sure we have all required packages installed:"
   ]
  },
  {
   "cell_type": "code",
   "execution_count": null,
   "metadata": {},
   "source": [
    "!pip install -r requirements.txt"
   ]
  },
  {
   "cell_type": "markdown",
   "metadata": {},
   "source": [
    "## 2. Initialize Database\n",
    "\n",
    "Create database tables if they don't exist:"
   ]
  },
  {
   "cell_type": "code",
   "execution_count": null,
   "metadata": {},
   "source": [
    "from app import app, db\n",
    "\n",
    "with app.app_context():\n",
    "    db.create_all()\n",
    "    print(\"Database tables created successfully!\")"
   ]
  },
  {
   "cell_type": "markdown",
   "metadata": {},
   "source": [
    "## 3. Start the Application\n",
    "\n",
    "Run the Flask application:"
   ]
  },
  {
   "cell_type": "code",
   "execution_count": null,
   "metadata": {},
   "source": [
    "if __name__ == '__main__':\n",
    "    app.run(debug=True, use_reloader=False)  # use_reloader=False is important in Jupyter"
   ]
  },
  {
   "cell_type": "markdown",
   "metadata": {},
   "source": [
    "## 4. Database Management\n",
    "\n",
    "Useful database operations:"
   ]
  },
  {
   "cell_type": "code",
   "execution_count": null,
   "metadata": {},
   "source": [
    "def list_tables():\n",
    "    \"\"\"List all tables in the database\"\"\"\n",
    "    with app.app_context():\n",
    "        tables = db.engine.table_names()\n",
    "        print(\"Database Tables:\")\n",
    "        for table in tables:\n",
    "            print(f\"- {table}\")\n",
    "\n",
    "# Uncomment to list tables\n",
    "# list_tables()"
   ]
  },
  {
   "cell_type": "code",
   "execution_count": null,
   "metadata": {},
   "source": [
    "def reset_database():\n",
    "    \"\"\"Reset the database (Warning: This will delete all data!)\"\"\"\n",
    "    confirm = input(\"This will delete all data! Type 'YES' to confirm: \")\n",
    "    if confirm == 'YES':\n",
    "        with app.app_context():\n",
    "            db.drop_all()\n",
    "            db.create_all()\n",
    "            print(\"Database reset successfully!\")\n",
    "    else:\n",
    "        print(\"Operation cancelled.\")\n",
    "\n",
    "# Uncomment to reset database\n",
    "# reset_database()"
   ]
  },
  {
   "cell_type": "markdown",
   "metadata": {},
   "source": [
    "## 5. Test Data Generation\n",
    "\n",
    "Create sample data for testing:"
   ]
  },
  {
   "cell_type": "code",
   "execution_count": null,
   "metadata": {},
   "source": [
    "from models import User, Party, Item, Invoice, Transaction\n",
    "from werkzeug.security import generate_password_hash\n",
    "from datetime import datetime\n",
    "\n",
    "def create_test_data():\n",
    "    \"\"\"Create sample data for testing\"\"\"\n",
    "    with app.app_context():\n",
    "        # Create test user\n",
    "        if not User.query.filter_by(email='admin@example.com').first():\n",
    "            user = User(\n",
    "                name='Admin User',\n",
    "                email='admin@example.com',\n",
    "                password=generate_password_hash('admin123')\n",
    "            )\n",
    "            db.session.add(user)\n",
    "\n",
    "        # Create test party\n",
    "        if not Party.query.filter_by(name='Test Party').first():\n",
    "            party = Party(\n",
    "                name='Test Party',\n",
    "                contact='1234567890',\n",
    "                email='party@example.com',\n",
    "                address='123 Test Street'\n",
    "            )\n",
    "            db.session.add(party)\n",
    "\n",
    "        # Create test item\n",
    "        if not Item.query.filter_by(name='Test Item').first():\n",
    "            item = Item(\n",
    "                name='Test Item',\n",
    "                description='Test Description',\n",
    "                cash_rate=100.00,\n",
    "                bill_rate=110.00,\n",
    "                current_stock=50\n",
    "            )\n",
    "            db.session.add(item)\n",
    "\n",
    "        db.session.commit()\n",
    "        print(\"Test data created successfully!\")\n",
    "\n",
    "# Uncomment to create test data\n",
    "# create_test_data()"
   ]
  },
  {
   "cell_type": "markdown",
   "metadata": {},
   "source": [
    "## 6. Utility Functions\n",
    "\n",
    "Helpful functions for managing the application:"
   ]
  },
  {
   "cell_type": "code",
   "execution_count": null,
   "metadata": {},
   "source": [
    "def check_system_status():\n",
    "    \"\"\"Check the status of various system components\"\"\"\n",
    "    with app.app_context():\n",
    "        print(\"System Status Check:\")\n",
    "        \n",
    "        # Check database\n",
    "        try:\n",
    "            db.engine.execute('SELECT 1')\n",
    "            print(\"✓ Database connection: OK\")\n",
    "        except Exception as e:\n",
    "            print(\"✗ Database connection: Failed\")\n",
    "            print(f\"  Error: {str(e)}\")\n",
    "        \n",
    "        # Check tables\n",
    "        tables = db.engine.table_names()\n",
    "        print(f\"✓ Database tables: {len(tables)} tables found\")\n",
    "        \n",
    "        # Check users\n",
    "        user_count = User.query.count()\n",
    "        print(f\"✓ Users: {user_count} users in system\")\n",
    "        \n",
    "        # Check items\n",
    "        item_count = Item.query.count()\n",
    "        print(f\"✓ Items: {item_count} items in inventory\")\n",
    "        \n",
    "        # Check parties\n",
    "        party_count = Party.query.count()\n",
    "        print(f\"✓ Parties: {party_count} parties registered\")\n",
    "\n",
    "# Uncomment to check system status\n",
    "# check_system_status()"
   ]
  }
 ],
 "metadata": {
  "kernelspec": {
   "display_name": "Python 3",
   "language": "python",
   "name": "python3"
  },
  "language_info": {
   "codemirror_mode": {
    "name": "ipython",
    "version": 3
   },
   "file_extension": ".py",
   "mimetype": "text/x-python",
   "name": "python",
   "nbconvert_exporter": "python",
   "pygments_lexer": "ipython3",
   "version": "3.8.0"
  }
 },
 "nbformat": 4,
 "nbformat_minor": 4
}
